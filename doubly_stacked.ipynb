{
 "cells": [
  {
   "cell_type": "code",
   "execution_count": 1,
   "metadata": {},
   "outputs": [
    {
     "name": "stdout",
     "output_type": "stream",
     "text": [
      "CPU times: user 1.13 s, sys: 365 ms, total: 1.49 s\n",
      "Wall time: 2.32 s\n"
     ]
    }
   ],
   "source": [
    "%%time\n",
    "\n",
    "import numpy as np\n",
    "import matplotlib.pyplot as plt\n",
    "import matplotlib.cm as cm\n",
    "from sklearn.preprocessing import normalize\n",
    "\n",
    "plt.rcParams['figure.figsize'] = 5.0, 4.0\n",
    "\n",
    "from pyts.transformation import GADF,GASF\n",
    "from sklearn.preprocessing import normalize\n",
    "\n",
    "import uproot\n",
    "import torch\n",
    "from torch.utils.data import DataLoader\n",
    "from torch.autograd import Variable\n",
    "\n",
    "from scipy.cluster.hierarchy import dendrogram, linkage\n",
    "from scipy.cluster.hierarchy import fcluster\n",
    "\n",
    "import fastcluster as fc"
   ]
  },
  {
   "cell_type": "code",
   "execution_count": 6,
   "metadata": {},
   "outputs": [
    {
     "name": "stdout",
     "output_type": "stream",
     "text": [
      "CPU times: user 38 µs, sys: 1 µs, total: 39 µs\n",
      "Wall time: 43.9 µs\n"
     ]
    }
   ],
   "source": [
    "%%time\n",
    "class Waveform():\n",
    "    \n",
    "    def __init__(self, path=None):\n",
    "        if path is None:\n",
    "            raise ValueError(\"Insert file path!\")\n",
    "#         if no_classes is None:\n",
    "#             raise ValueError(\"Number of classes?\")\n",
    "        \n",
    "        # Load PMTALL(sum of waveform of CANDLES), removing last portion of data\n",
    "        tree = uproot.open(path)[\"tree\"]\n",
    "        extra = np.arange(4096,4480)\n",
    "        pmtall = tree.array(\"PMTALL\")\n",
    "        pmtall = np.delete(pmtall, extra, axis=1)\n",
    "        pedestal = tree.array(\"Pedestal\")\n",
    "        pedestal_sum = pedestal[:,0]\n",
    "        pmtall_2 = np.empty((pmtall.shape))\n",
    "        for i in range(len(pedestal_sum)):\n",
    "            pmtall[i] = pedestal_sum[i] - pmtall[i]\n",
    "            pmtall_2[i] = pmtall[i] * 2.\n",
    "#         print(pmtall[0])\n",
    "#         print(pmtall_2[0])\n",
    "        label1 = np.ones(len(pmtall))\n",
    "        label2 = np.ones(len(pmtall_2))*2\n",
    "        \n",
    "        pmtall = normalize(pmtall, axis=1,norm=\"l2\")\n",
    "        pmtall_2 = normalize(pmtall_2, axis=1,norm=\"l2\")\n",
    "        self.waveform = np.concatenate((pmtall,pmtall_2),axis=0)\n",
    "        \n",
    "        plt.figure()\n",
    "        plt.plot(np.mean(pmtall,axis=0))\n",
    "        plt.plot(np.mean(pmtall_2,axis=0))\n",
    "        plt.xlim(50,250)\n",
    "        plt.show()\n",
    "        \n",
    "        label_s = np.concatenate((label1,label2),axis=0)\n",
    "        self.label = label_s.astype(int)\n",
    "        del pmtall, pmtall_2, pedestal, pedestal_sum\n",
    "    \n",
    "    def __len__(self):\n",
    "        return self.waveform.shape[0]\n",
    "    \n",
    "    def __getitem__(self,idx):\n",
    "        return self.waveform[idx], self.label[idx]"
   ]
  },
  {
   "cell_type": "code",
   "execution_count": 7,
   "metadata": {},
   "outputs": [
    {
     "data": {
      "image/png": "[encoded data removed]",
      "text/plain": [
       "<matplotlib.figure.Figure at 0x119145ba8>"
      ]
     },
     "metadata": {},
     "output_type": "display_data"
    }
   ],
   "source": [
    "dataset = Waveform(path=\"RefPulse009.root\")\n",
    "\n",
    "BATCH_SIZE = 5000\n",
    "\n",
    "data_loader = DataLoader(dataset=dataset,\n",
    "                         batch_size=BATCH_SIZE,\n",
    "                         shuffle=True,\n",
    "                         num_workers=3) "
   ]
  },
  {
   "cell_type": "code",
   "execution_count": 36,
   "metadata": {},
   "outputs": [
    {
     "name": "stdout",
     "output_type": "stream",
     "text": [
      "4028\n",
      "0\n"
     ]
    }
   ],
   "source": [
    "n_batches = int(len(dataset)/BATCH_SIZE)\n",
    "print(len(dataset))\n",
    "print(n_batches)\n",
    "del dataset"
   ]
  },
  {
   "cell_type": "code",
   "execution_count": 22,
   "metadata": {},
   "outputs": [
    {
     "name": "stdout",
     "output_type": "stream",
     "text": [
      "Autoencoder\n",
      "Autoencoder(\n",
      "  (cv1): Conv1d(1, 32, kernel_size=(8,), stride=(4,), padding=(4,))\n",
      "  (pl1): MaxPool1d(kernel_size=2, stride=4, padding=0, dilation=1, ceil_mode=False)\n",
      "  (cv21): Conv1d(32, 32, kernel_size=(8,), stride=(4,), padding=(4,))\n",
      "  (pl21): MaxPool1d(kernel_size=2, stride=4, padding=0, dilation=1, ceil_mode=False)\n",
      "  (cv22): Conv1d(32, 32, kernel_size=(8,), stride=(4,), padding=(4,))\n",
      "  (pl22): MaxPool1d(kernel_size=2, stride=4, padding=0, dilation=1, ceil_mode=False)\n",
      "  (ct1): ConvTranspose1d(32, 32, kernel_size=(8,), stride=(4,), padding=(2,))\n",
      "  (up1): Upsample(scale_factor=2, mode=nearest)\n",
      "  (ct2): ConvTranspose1d(32, 32, kernel_size=(8,), stride=(4,), padding=(2,))\n",
      "  (up2): Upsample(scale_factor=2, mode=nearest)\n",
      "  (ct3): ConvTranspose1d(32, 1, kernel_size=(8,), stride=(4,), padding=(2,))\n",
      ")\n",
      "torch.Size([32, 1, 8])\n",
      "torch.Size([32])\n",
      "torch.Size([32, 32, 8])\n",
      "torch.Size([32])\n",
      "torch.Size([32, 32, 8])\n",
      "torch.Size([32])\n",
      "torch.Size([32, 32, 8])\n",
      "torch.Size([32])\n",
      "torch.Size([32, 32, 8])\n",
      "torch.Size([32])\n",
      "torch.Size([32, 1, 8])\n",
      "torch.Size([1])\n"
     ]
    }
   ],
   "source": [
    "from torch import nn\n",
    "from torch.autograd import Variable\n",
    "import torch.nn.functional as F\n",
    "\n",
    "class Autoencoder(nn.Module):\n",
    "    def __init__(self):\n",
    "        super(Autoencoder, self).__init__()        \n",
    "#         self.norm = nn.BatchNorm1d(1)\n",
    "        self.cv1 = nn.Conv1d(1, 32, kernel_size=8, stride=4, padding=4)\n",
    "        self.pl1 = nn.MaxPool1d(2, stride=4)\n",
    "        self.cv21 = nn.Conv1d(32, 32, kernel_size=8, stride=4, padding=4)\n",
    "        self.pl21 = nn.MaxPool1d(2, stride=4)\n",
    "        self.cv22 = nn.Conv1d(32, 32, kernel_size=8, stride=4, padding=4)\n",
    "        self.pl22 = nn.MaxPool1d(2, stride=4)\n",
    "                \n",
    "        self.ct1 = nn.ConvTranspose1d(32, 32, kernel_size=8, stride=4, padding=2)\n",
    "        self.up1 = nn.Upsample(scale_factor=2, mode='nearest')\n",
    "        self.ct2 = nn.ConvTranspose1d(32, 32, kernel_size=8, stride=4, padding=2)\n",
    "        self.up2 = nn.Upsample(scale_factor=2, mode='nearest')\n",
    "        self.ct3 = nn.ConvTranspose1d(32, 1, kernel_size=8, stride=4,padding=2)\n",
    "\n",
    "    def encoder(self, x):\n",
    "#         h0 = self.norm(x)\n",
    "        h1 = F.tanh(self.pl1(self.cv1(x)))\n",
    "        return self.pl21(self.cv21(h1)), self.pl22(self.cv22(h1))\n",
    "    \n",
    "    def reparameterise(self, mu, logvar):\n",
    "        std = logvar.mul(0.5).exp_()\n",
    "        if torch.cuda.is_available():\n",
    "            eps = torch.cuda.FloatTensor(std.size()).normal_()\n",
    "        else:\n",
    "            eps = torch.FloatTensor(std.size()).normal_()\n",
    "        eps = Variable(eps)\n",
    "        return eps.mul(std).add_(mu)\n",
    "    \n",
    "    def decoder(self, z):\n",
    "        h3 = F.leaky_relu(self.ct1(z))\n",
    "        h3 = self.up1(h3)\n",
    "        h3 = F.leaky_relu(self.ct2(h3))\n",
    "        h3 = self.up2(h3)\n",
    "        return F.leaky_relu(self.ct3(h3))\n",
    "    \n",
    "    def forward(self,inputs):\n",
    "        mu, logvar = self.encoder(inputs)\n",
    "        z = self.reparameterise(mu, logvar)\n",
    "        return self.decoder(z), mu, logvar\n",
    "print(\"Autoencoder\")\n",
    "\n",
    "GEN = Autoencoder()\n",
    "print(GEN)\n",
    "\n",
    "criterion = nn.L1Loss()\n",
    "optimizer = torch.optim.Adam(GEN.parameters(), lr=0.001, weight_decay=1e-5)\n",
    "\n",
    "for parameter in GEN.parameters():\n",
    "    print(parameter.size())"
   ]
  },
  {
   "cell_type": "code",
   "execution_count": 23,
   "metadata": {},
   "outputs": [],
   "source": [
    "GEN.load_state_dict(torch.load(\"GEN_WEIGHT_half.pkl\"))"
   ]
  },
  {
   "cell_type": "code",
   "execution_count": 24,
   "metadata": {},
   "outputs": [],
   "source": [
    "def to_var(x):\n",
    "    # first move to GPU, if necessary\n",
    "    if torch.cuda.is_available():\n",
    "        x = x.cuda()\n",
    "        \n",
    "    return Variable(x)"
   ]
  },
  {
   "cell_type": "code",
   "execution_count": 49,
   "metadata": {},
   "outputs": [
    {
     "data": {
      "image/png": "[encoded data removed]",
      "text/plain": [
       "<matplotlib.figure.Figure at 0x124e9de10>"
      ]
     },
     "metadata": {},
     "output_type": "display_data"
    },
    {
     "name": "stdout",
     "output_type": "stream",
     "text": [
      "[1 2]\n",
      "overall =  50.0\n",
      "label 1 =  20.80436941410129\n",
      "label 2 =  79.19563058589871\n"
     ]
    },
    {
     "data": {
      "image/png": "[encoded data removed]",
      "text/plain": [
       "<matplotlib.figure.Figure at 0x11d9b9358>"
      ]
     },
     "metadata": {},
     "output_type": "display_data"
    },
    {
     "data": {
      "image/png": "[encoded data removed]",
      "text/plain": [
       "<matplotlib.figure.Figure at 0x119984748>"
      ]
     },
     "metadata": {},
     "output_type": "display_data"
    },
    {
     "name": "stdout",
     "output_type": "stream",
     "text": [
      "CPU times: user 31.6 s, sys: 3.32 s, total: 35 s\n",
      "Wall time: 33.2 s\n"
     ]
    }
   ],
   "source": [
    "%%time\n",
    "from scipy.cluster import hierarchy\n",
    "\n",
    "try:\n",
    "    for batch_number, (waveform, label) in enumerate(data_loader):\n",
    "        average = []\n",
    "        average2 = []\n",
    "        average3 = []\n",
    "        average4 = []\n",
    "        average5 = []\n",
    "#         print(batch_number,label.size())\n",
    "#         print(waveform.size())\n",
    "#         if batch_number == 1:\n",
    "#             break\n",
    "        batch_size = waveform.size()[0]\n",
    "#         print(batch_size)\n",
    "#         waveform_in = to_var(waveform.view(batch_size,4096))\n",
    "#         print(waveform_in)\n",
    "        \n",
    "#         plt.figure()\n",
    "#         plt.plot(waveform[0])\n",
    "#         plt.show()\n",
    "        \n",
    "        feat = GEN(waveform.view(batch_size,1,4096).float())\n",
    "#         features = GEN.encoder(waveform_in)\n",
    "        \n",
    "#         print(batch_number)\n",
    "#         print(feat[0].size())\n",
    "        \n",
    "        green = np.reshape(feat[1].detach().numpy(),(batch_size,-1))\n",
    "#         print(green.shape)\n",
    "        test_x = fc.linkage(green, method=\"ward\")\n",
    "\n",
    "\n",
    "#         Z = linkage(green, method=\"ward\")\n",
    "#         print(Z.shape)\n",
    "#         print(Z)\n",
    "        fig = plt.figure(figsize=(8, 6))\n",
    "        dn = dendrogram(test_x, count_sort=True, color_threshold=0)\n",
    "        plt.title(batch_number)\n",
    "#         plt.savefig(\"ls.png\")\n",
    "        plt.show()\n",
    "    \n",
    "#         dn = dendrogram(Z, color_threshold=0)\n",
    "#         plt.title(batch_number)\n",
    "# #         plt.savefig(\"ls.png\")\n",
    "#         plt.show()\n",
    "        \n",
    "#         clusters = fcluster(test_x, 8, depth=10)\n",
    "# #         print(clusters.shape)\n",
    "#         print(clusters[:20])\n",
    "#         print(np.unique(clusters))\n",
    "              \n",
    "        iclusters = fcluster(test_x, 2, criterion='maxclust')\n",
    "#         print(clusters.shape)\n",
    "#         print(label[:20])\n",
    "#         print(iclusters[:20])\n",
    "        print(np.unique(iclusters))\n",
    "        \n",
    "#         print(iclusters.shape, label.shape)\n",
    "        \n",
    "        label = label.detach().numpy()\n",
    "        \n",
    "        correct = np.mean(label == iclusters)\n",
    "                \n",
    "        tot = len(label)\n",
    "        c1 = np.count_nonzero(label==1)\n",
    "        c2 = np.count_nonzero(label==2)\n",
    "        \n",
    "        correct1 = np.zeros(tot)\n",
    "        correct2 = np.zeros(tot)\n",
    "        \n",
    "        for i in range(tot):\n",
    "            if iclusters[i]==1 and label[i]==1:\n",
    "                correct1[i] = 1\n",
    "            if iclusters[i]==2 and label[i]==2:\n",
    "                correct2[i] = 1\n",
    "        \n",
    "        print(\"overall = \", correct*100)\n",
    "        print(\"label 1 = \", np.count_nonzero(correct1==1)/c1*100)\n",
    "        print(\"label 2 = \", np.count_nonzero(correct2==1)/c2*100)\n",
    "#         average = np.append(average,Z)\n",
    "        \n",
    "        for i, waveform_out in enumerate(feat[0]):\n",
    "            \n",
    "#             red = waveform_out.detach().numpy()\n",
    "#             red = np.reshape(waveform_out.detach().numpy(), (1,-1))\n",
    "            blue = waveform[i].detach().numpy()\n",
    "#             blue = normalize(waveform_in[i].detach().numpy(),axis=1)\n",
    "\n",
    "#             print(i, red.shape,blue.shape)\n",
    "#             print(red[0])\n",
    "#             print(blue[0])len\n",
    "\n",
    "#             plt.figure()\n",
    "#             plt.title(\"{}\".format(clusters[i]))\n",
    "# #             plt.plot(red[0],label=\"encoder output\",alpha=0.7)\n",
    "#             plt.plot(blue[0],label=\"encoder input\",alpha=0.7)\n",
    "#             plt.legend()\n",
    "# #             plt.savefig(\"fig/autoencoder{}.png\".format(i))\n",
    "#             plt.show()\n",
    "    \n",
    "#             for k in range(len(np.unique(clusters))):\n",
    "#                 if k==clusters[i]:\n",
    "#                     plt.figure()\n",
    "#                     plt.title(\"{}\".format(k))\n",
    "#                     plt.plot(red[0],label=\"encoder output\",alpha=0.7)\n",
    "#                     plt.plot(blue[0],label=\"encoder input\",alpha=0.7)\n",
    "#                     plt.legend()\n",
    "# #                     plt.savefig(\"fig/{}_{}.png\".format(k,i))\n",
    "#                     plt.show()\n",
    "\n",
    "            if iclusters[i]==1:\n",
    "                average.append(blue)\n",
    "                \n",
    "            if iclusters[i]==2:\n",
    "                average2.append(blue)\n",
    "            \n",
    "#             if clusters[i]==3:\n",
    "#                 average3.append(blue[0])\n",
    "                \n",
    "#             if clusters[i]==4:\n",
    "#                 average4.append(blue[0])\n",
    "                \n",
    "#             if clusters[i]==5:\n",
    "#                 average5.append(blue[0])\n",
    "                \n",
    "        dang = np.mean(average, axis=0)\n",
    "        dang2 = np.mean(average2, axis=0)\n",
    "#         dang3 = np.mean(average3, axis=0)\n",
    "#         dang4 = np.mean(average4, axis=0)\n",
    "#         dang5 = np.mean(average5, axis=0)\n",
    "        \n",
    "        plt.figure(figsize=(8,6))\n",
    "        plt.plot(dang,label=\"1\")\n",
    "        plt.plot(dang2,label=\"2\")\n",
    "#         plt.plot(dang3,label=\"3\")\n",
    "#         plt.plot(dang4,label=\"4\")\n",
    "#         plt.plot(dang5,label=\"5\")\n",
    "#         plt.xlim(50,400)\n",
    "        plt.xlabel(\"channel\")\n",
    "        plt.legend()\n",
    "#         plt.title(batch_number)\n",
    "#         plt.savefig(\"ls3.png\")\n",
    "        plt.show()\n",
    "        \n",
    "        plt.figure(figsize=(8,6))\n",
    "        plt.plot(average[0], label=\"1\")\n",
    "        plt.plot(average2[0], label=\"2\")\n",
    "#         plt.plot(average3[0])\n",
    "#         plt.plot(average4[0])\n",
    "#         plt.xlim(50,400)\n",
    "        plt.xlabel(\"channel\")\n",
    "        plt.legend()\n",
    "# #         plt.title(batch_number)\n",
    "# #         plt.savefig(\"lsr.png\")\n",
    "        plt.show()\n",
    "        \n",
    "        \n",
    "                    \n",
    "#         Features[batch_number*1000:(batch_number+1)*1000] = feat[0]\n",
    "        \n",
    "        \n",
    "#         print(Features.size())\n",
    "    # db = DBSCAN(eps=0.3, min_samples=20).fit(DATA.detach().numpy())\n",
    "    # print(db.core_sample_indices_)\n",
    "    # print(db.labels_)\n",
    "        \n",
    "\n",
    "except KeyboardInterrupt:\n",
    "    print('Training ended early.')"
   ]
  },
  {
   "cell_type": "code",
   "execution_count": null,
   "metadata": {},
   "outputs": [],
   "source": []
  },
  {
   "cell_type": "code",
   "execution_count": null,
   "metadata": {},
   "outputs": [],
   "source": []
  }
 ],
 "metadata": {
  "kernelspec": {
   "display_name": "Python 3",
   "language": "python",
   "name": "python3"
  },
  "language_info": {
   "codemirror_mode": {
    "name": "ipython",
    "version": 3
   },
   "file_extension": ".py",
   "mimetype": "text/x-python",
   "name": "python",
   "nbconvert_exporter": "python",
   "pygments_lexer": "ipython3",
   "version": "3.5.2"
  }
 },
 "nbformat": 4,
 "nbformat_minor": 2
}
