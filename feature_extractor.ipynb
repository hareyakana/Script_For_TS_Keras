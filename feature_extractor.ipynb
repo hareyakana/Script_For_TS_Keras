{
 "cells": [
  {
   "cell_type": "markdown",
   "metadata": {},
   "source": [
    "# learning from data\n",
    "\n",
    "Using the weight obtained as features\n",
    "\n",
    "CNN features, the weight in the last layers."
   ]
  },
  {
   "cell_type": "code",
   "execution_count": 1,
   "metadata": {},
   "outputs": [
    {
     "name": "stdout",
     "output_type": "stream",
     "text": [
      "Welcome to JupyROOT 6.10/02\n"
     ]
    },
    {
     "name": "stderr",
     "output_type": "stream",
     "text": [
      "Using TensorFlow backend.\n"
     ]
    },
    {
     "name": "stdout",
     "output_type": "stream",
     "text": [
      "CPU times: user 3.94 s, sys: 1.16 s, total: 5.1 s\n",
      "Wall time: 7.29 s\n"
     ]
    }
   ],
   "source": [
    "%%time\n",
    "\n",
    "import numpy as np\n",
    "import matplotlib.pyplot as plt\n",
    "from root_pandas import read_root\n",
    "from sklearn.preprocessing import normalize\n",
    "\n",
    "plt.rcParams['figure.figsize'] = 10.0, 8.0\n",
    "\n",
    "file_piled = \"Piled_2.root\"\n",
    "file_flat = \"Flat.root\"\n",
    "file_alpha = \"Alpha_11.root\"\n",
    "file_ls = \"LS.root\"\n",
    "file_ls_beta = \"LS_BETA.root\"\n",
    "file_ref = \"RefPulse009.root\"\n",
    "\n",
    "file_pre_analysis = \"Run009-230-001.root\"\n",
    "\n",
    "data = \"PMTALL\"\n",
    "tree = \"tree\"\n",
    "\n",
    "pmt_all_length = 4480\n",
    "\n",
    "def NORM(file, tree, data):\n",
    "    pmtall = read_root(file, tree, columns=[data],flatten=[data])\n",
    "    num_entries, w = pmtall.shape\n",
    "    num_entries = int(num_entries/pmt_all_length)\n",
    "    x = pmtall.PMTALL.values.reshape(num_entries, pmt_all_length)\n",
    "    x_abs = abs(x - 15200)\n",
    "    extra = np.arange(4096, pmt_all_length)\n",
    "    x_mod = np.delete(x_abs, extra, axis=1)\n",
    "    x_nor = normalize(x_mod, norm=\"l1\")\n",
    "    return x_nor\n",
    "\n",
    "# PMTALL_piled = NORM(file_piled, tree, data)\n",
    "# PMTALL_flat = NORM(file_flat, tree, data)\n",
    "# PMTALL_alpha = NORM(file_alpha, tree, data)\n",
    "# PMTALL_ls = NORM(file_ls, tree, data)\n",
    "# PMTALL_ls_beta = NORM(file_ls_beta, tree, data)\n",
    "# PMTALL_ref = NORM(file_ref, tree, data)\n",
    "\n",
    "def sep(x, ratio, group):\n",
    "    train = np.zeros((int(len(x)*ratio), len(x[0])))\n",
    "    test = np.zeros((int(len(x)*(1-ratio)), len(x[0])))\n",
    "    for i in range(len(x)):\n",
    "        if i < int(len(x)*ratio):\n",
    "            train[i] = x[i]\n",
    "        if i >= int(len(x)*ratio):\n",
    "            k = i - int(len(x)*ratio) - 1\n",
    "            test[k] = x[i]\n",
    "    train_label = np.zeros(len(train))\n",
    "    test_label = np.zeros(len(test))\n",
    "    for i in range(len(train)):\n",
    "        train_label[i] = group\n",
    "    for i in range(len(test)):\n",
    "        test_label[i] = group\n",
    "    return train, test, train_label, test_label\n",
    "\n",
    "# ratio = 0.8\n",
    "# piled = sep(PMTALL_piled, ratio, 0)\n",
    "# flat = sep(PMTALL_flat, ratio, 1)\n",
    "# alpha = sep(PMTALL_alpha, ratio, 2)\n",
    "# ls = sep(PMTALL_ls, ratio, 3)\n",
    "# ls_beta = sep(PMTALL_ls_beta, ratio, 4)\n",
    "# ref = sep(PMTALL_ref, ratio, 5)\n",
    "\n",
    "# del PMTALL_piled, PMTALL_flat, PMTALL_alpha, PMTALL_ls, PMTALL_ls_beta, PMTALL_ref\n",
    "\n",
    "import keras\n",
    "def data_for_cnn(x1, x2, x3, x4, x5, x6,z):\n",
    "    x11, x12, x13, x14 = x1\n",
    "    x21, x22, x23, x24 = x2\n",
    "    x31, x32, x33, x34 = x3\n",
    "    x41, x42, x43, x44 = x4\n",
    "    x51, x52, x53, x54 = x5\n",
    "    x61, x62, x63, x64 = x6\n",
    "    y1 = np.concatenate((x11, x21, x31, x41, x51, x61), axis=0)\n",
    "    y2 = np.concatenate((x12, x22, x32, x42, x52, x62), axis=0)\n",
    "    y3 = np.concatenate((x13, x23, x33, x43, x53, x63), axis=0)\n",
    "    y4 = np.concatenate((x14, x24, x34, x44, x54, x64), axis=0)\n",
    "    iy1 = np.expand_dims(y1, axis=2)\n",
    "    iy2 = np.expand_dims(y2, axis=2)\n",
    "    iy3 = keras.utils.to_categorical(y3, z)\n",
    "    iy4 = keras.utils.to_categorical(y4, z)\n",
    "    return iy1, iy2, iy3, iy4\n",
    "\n",
    "# classes = 6\n",
    "# train_data, test_data, train_label, test_label = data_for_cnn(piled, flat, alpha, ls, ls_beta, ref,classes)\n",
    "\n",
    "# del piled, flat, alpha, ls, ls_beta, ref\n",
    "# print(\"done!\")\n"
   ]
  },
  {
   "cell_type": "code",
   "execution_count": 2,
   "metadata": {
    "scrolled": false
   },
   "outputs": [
    {
     "name": "stdout",
     "output_type": "stream",
     "text": [
      "(3968,)\n",
      "(32, 6) (6,)\n",
      "(32, 6)\n"
     ]
    },
    {
     "data": {
      "image/png": "[encoded data removed]",
      "text/plain": [
       "<matplotlib.figure.Figure at 0x1497e8d68>"
      ]
     },
     "metadata": {},
     "output_type": "display_data"
    },
    {
     "data": {
      "text/plain": [
       "<matplotlib.collections.PathCollection at 0x149ccb0b8>"
      ]
     },
     "execution_count": 2,
     "metadata": {},
     "output_type": "execute_result"
    },
    {
     "name": "stderr",
     "output_type": "stream",
     "text": [
      "2017-11-29 13:41:45.410145: I tensorflow/core/platform/cpu_feature_guard.cc:137] Your CPU supports instructions that this TensorFlow binary was not compiled to use: SSE4.1 SSE4.2 AVX\n"
     ]
    }
   ],
   "source": [
    "from keras.models import load_model\n",
    "model = load_model(\"for_root_implementation.h5\")\n",
    "\n",
    "# PMTALL_pre_analysis = NORM(file_pre_analysis, tree, data)\n",
    "# PMTALL_pre_analysis = np.expand_dims(PMTALL_pre_analysis,axis=2)\n",
    "\n",
    "# features = model.predict(PMTALL_pre_analysis,batch_size=50,verbose=1)\n",
    "\n",
    "conv_pull = model.layers[7].get_weights()\n",
    "print(conv_pull[0][0:,1].shape)\n",
    "\n",
    "weights = model.layers[10].get_weights()\n",
    "print(weights[0].shape,weights[1].shape)\n",
    "print(weights[0][:,:10].shape)\n",
    "\n",
    "# plt.ion()\n",
    "\n",
    "# for i in range(64):\n",
    "#     plt.plot(weights[0][:,i])\n",
    "#     plt.pause(0.1)\n",
    "\n",
    "from mpl_toolkits.mplot3d import Axes3D\n",
    "\n",
    "c = np.arange(32)\n",
    "fig = plt.figure()\n",
    "# ax = fig.add_subplot(111, projection='3d')\n",
    "# ax.scatter(weights[0][:,0],weights[0][:,1],weights[0][:,2],c=c)\n",
    "# ax.scatter(weights[0][:,0],weights[0][:,1],weights[0][:,3],c=c)\n",
    "# ax.scatter(weights[0][:,0],weights[0][:,1],weights[0][:,4],c=c)\n",
    "# ax.scatter(weights[0][:,0],weights[0][:,1],weights[0][:,5],c=c)\n",
    "plt.scatter(weights[0][:,0],weights[0][:,4],c=c)\n",
    "# plt.scatter(weights[0][:,0],weights[0][:,2])\n",
    "# plt.scatter(weights[0][:,0],weights[0][:,3])\n",
    "# plt.scatter(weights[0][:,0],weights[0][:,4])\n",
    "# plt.scatter(weights[0][:,0],weights[0][:,5])\n",
    "plt.show()\n",
    "\n",
    "plt.figure()\n",
    "plt.scatter(conv_pull[0][:,0],conv_pull[0][:,1])"
   ]
  },
  {
   "cell_type": "code",
   "execution_count": null,
   "metadata": {},
   "outputs": [],
   "source": []
  },
  {
   "cell_type": "code",
   "execution_count": null,
   "metadata": {},
   "outputs": [],
   "source": []
  }
 ],
 "metadata": {
  "kernelspec": {
   "display_name": "Python 3",
   "language": "python",
   "name": "python3"
  },
  "language_info": {
   "codemirror_mode": {
    "name": "ipython",
    "version": 3
   },
   "file_extension": ".py",
   "mimetype": "text/x-python",
   "name": "python",
   "nbconvert_exporter": "python",
   "pygments_lexer": "ipython3",
   "version": "3.5.2"
  }
 },
 "nbformat": 4,
 "nbformat_minor": 2
}
