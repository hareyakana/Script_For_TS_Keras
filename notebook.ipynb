{
 "cells": [
  {
   "cell_type": "markdown",
   "metadata": {},
   "source": [
    "# Why not apply Hierachal clustering to waveform directly???\n",
    "\n",
    "We lost the weightage of different portion of waveform from the initial network.\n",
    "\n",
    "# Find out reasons to reinforce.\n",
    "\n",
    "# Inverted why cant work???\n",
    "\n",
    "# Bayesian Hierachical model ?-> Implement for clearer/simpler distance cut off(clustering)"
   ]
  },
  {
   "cell_type": "code",
   "execution_count": 1,
   "metadata": {},
   "outputs": [
    {
     "name": "stdout",
     "output_type": "stream",
     "text": [
      "CPU times: user 1.13 s, sys: 357 ms, total: 1.48 s\n",
      "Wall time: 2.27 s\n"
     ]
    }
   ],
   "source": [
    "%%time\n",
    "\n",
    "import numpy as np\n",
    "import matplotlib.pyplot as plt\n",
    "import matplotlib.cm as cm\n",
    "from sklearn.preprocessing import normalize\n",
    "\n",
    "plt.rcParams['figure.figsize'] = 5.0, 4.0\n",
    "\n",
    "from pyts.transformation import GADF,GASF\n",
    "from sklearn.preprocessing import normalize\n",
    "\n",
    "import uproot\n",
    "import torch\n",
    "from torch.utils.data import DataLoader\n",
    "from torch.autograd import Variable\n",
    "\n",
    "from scipy.cluster.hierarchy import dendrogram, linkage\n",
    "from scipy.cluster.hierarchy import fcluster\n"
   ]
  },
  {
   "cell_type": "markdown",
   "metadata": {},
   "source": [
    "# Load data\n",
    "build it using python class\n",
    "\n",
    "add normalize function in class"
   ]
  },
  {
   "cell_type": "code",
   "execution_count": 2,
   "metadata": {
    "scrolled": false
   },
   "outputs": [
    {
     "name": "stdout",
     "output_type": "stream",
     "text": [
      "CPU times: user 44 µs, sys: 0 ns, total: 44 µs\n",
      "Wall time: 51 µs\n"
     ]
    }
   ],
   "source": [
    "%%time\n",
    "class Waveform():\n",
    "    \n",
    "    def __init__(self, path=None):\n",
    "        if path is None:\n",
    "            raise ValueError(\"Insert file path!\")\n",
    "#         if no_classes is None:\n",
    "#             raise ValueError(\"Number of classes?\")\n",
    "        \n",
    "        # Load PMTALL(sum of waveform of CANDLES), removing last portion of data\n",
    "        tree = uproot.open(path)[\"tree\"]\n",
    "        extra = np.arange(4096,4480)\n",
    "        pmtall = tree.array(\"PMTALL\")\n",
    "        pmtall = np.delete(pmtall, extra, axis=1)\n",
    "        pedestal = tree.array(\"Pedestal\")\n",
    "        pedestal_sum = pedestal[:,0]\n",
    "        for i in range(len(pedestal_sum)):\n",
    "            pmtall[i] = pedestal_sum[i] - pmtall[i]\n",
    "#         number = \n",
    "        \n",
    "        # random labelling(test purposes)\n",
    "        self.waveform = normalize(pmtall,axis=1,norm=\"l2\")\n",
    "#         self.label = np.random.randint(3,size=(len(pmtall),))\n",
    "    \n",
    "    def __len__(self):\n",
    "        return self.waveform.shape[0]\n",
    "    \n",
    "    def __getitem__(self,idx):\n",
    "        return self.waveform[idx]\n"
   ]
  },
  {
   "cell_type": "code",
   "execution_count": 12,
   "metadata": {},
   "outputs": [],
   "source": [
    "no_classes = 3\n",
    "dataset = Waveform(path=\"alphaandbeta.root\")"
   ]
  },
  {
   "cell_type": "code",
   "execution_count": 13,
   "metadata": {
    "scrolled": true
   },
   "outputs": [],
   "source": [
    "BATCH_SIZE = 3000\n",
    "data_loader = DataLoader(dataset=dataset,\n",
    "                         batch_size=BATCH_SIZE,\n",
    "                         shuffle=True,\n",
    "                         num_workers=3) \n",
    "\n",
    "# #Testing#\n",
    "# for i in dataset:\n",
    "#     print(len(i[0]),len(i[1]))\n",
    "# for i in data_loader:\n",
    "#     print(i[0].size())\n",
    "#     print(i[1].size())\n",
    "# print(len(dataset))\n"
   ]
  },
  {
   "cell_type": "code",
   "execution_count": 14,
   "metadata": {},
   "outputs": [
    {
     "name": "stdout",
     "output_type": "stream",
     "text": [
      "8712\n"
     ]
    }
   ],
   "source": [
    "print(len(dataset))\n",
    "n_batches = int(len(dataset)/BATCH_SIZE) "
   ]
  },
  {
   "cell_type": "code",
   "execution_count": 15,
   "metadata": {},
   "outputs": [
    {
     "name": "stdout",
     "output_type": "stream",
     "text": [
      "2\n"
     ]
    }
   ],
   "source": [
    "n_batches\n",
    "del dataset\n",
    "print(n_batches)"
   ]
  },
  {
   "cell_type": "markdown",
   "metadata": {},
   "source": [
    "# Define CNN structure\n",
    "using an autoencoder for self-training, taking encoder part or decoder part for features learning\n",
    "\n",
    "How to make Auto encoder reproduce the waveform prefectly"
   ]
  },
  {
   "cell_type": "code",
   "execution_count": 7,
   "metadata": {},
   "outputs": [
    {
     "name": "stdout",
     "output_type": "stream",
     "text": [
      "Autoencoder\n",
      "Autoencoder(\n",
      "  (cv1): Conv1d(1, 32, kernel_size=(8,), stride=(4,), padding=(4,))\n",
      "  (pl1): MaxPool1d(kernel_size=2, stride=4, padding=0, dilation=1, ceil_mode=False)\n",
      "  (cv21): Conv1d(32, 16, kernel_size=(8,), stride=(4,), padding=(4,))\n",
      "  (pl21): MaxPool1d(kernel_size=2, stride=4, padding=0, dilation=1, ceil_mode=False)\n",
      "  (cv22): Conv1d(32, 16, kernel_size=(8,), stride=(4,), padding=(4,))\n",
      "  (pl22): MaxPool1d(kernel_size=2, stride=4, padding=0, dilation=1, ceil_mode=False)\n",
      "  (ct1): ConvTranspose1d(16, 32, kernel_size=(8,), stride=(4,), padding=(2,))\n",
      "  (up1): Upsample(scale_factor=2, mode=nearest)\n",
      "  (ct2): ConvTranspose1d(32, 32, kernel_size=(8,), stride=(4,), padding=(2,))\n",
      "  (up2): Upsample(scale_factor=2, mode=nearest)\n",
      "  (ct3): ConvTranspose1d(32, 1, kernel_size=(8,), stride=(4,), padding=(2,))\n",
      ")\n",
      "torch.Size([32, 1, 8])\n",
      "torch.Size([32])\n",
      "torch.Size([16, 32, 8])\n",
      "torch.Size([16])\n",
      "torch.Size([16, 32, 8])\n",
      "torch.Size([16])\n",
      "torch.Size([16, 32, 8])\n",
      "torch.Size([32])\n",
      "torch.Size([32, 32, 8])\n",
      "torch.Size([32])\n",
      "torch.Size([32, 1, 8])\n",
      "torch.Size([1])\n"
     ]
    }
   ],
   "source": [
    "from torch import nn\n",
    "from torch.autograd import Variable\n",
    "import torch.nn.functional as F\n",
    "\n",
    "class Autoencoder(nn.Module):\n",
    "    def __init__(self):\n",
    "        super(Autoencoder, self).__init__()        \n",
    "#         self.norm = nn.BatchNorm1d(1)\n",
    "        self.cv1 = nn.Conv1d(1, 32, kernel_size=8, stride=4, padding=4)\n",
    "        self.pl1 = nn.MaxPool1d(2, stride=4)\n",
    "        self.cv21 = nn.Conv1d(32, 16, kernel_size=8, stride=4, padding=4)\n",
    "        self.pl21 = nn.MaxPool1d(2, stride=4)\n",
    "        self.cv22 = nn.Conv1d(32, 16, kernel_size=8, stride=4, padding=4)\n",
    "        self.pl22 = nn.MaxPool1d(2, stride=4)\n",
    "                \n",
    "        self.ct1 = nn.ConvTranspose1d(16, 32, kernel_size=8, stride=4, padding=2)\n",
    "        self.up1 = nn.Upsample(scale_factor=2, mode='nearest')\n",
    "        self.ct2 = nn.ConvTranspose1d(32, 32, kernel_size=8, stride=4, padding=2)\n",
    "        self.up2 = nn.Upsample(scale_factor=2, mode='nearest')\n",
    "        self.ct3 = nn.ConvTranspose1d(32, 1, kernel_size=8, stride=4,padding=2)\n",
    "\n",
    "    def encoder(self, x):\n",
    "#         h0 = self.norm(x)\n",
    "        h1 = F.tanh(self.pl1(self.cv1(x)))\n",
    "        return self.pl21(self.cv21(h1)), self.pl22(self.cv22(h1))\n",
    "    \n",
    "    def reparameterise(self, mu, logvar):\n",
    "        std = logvar.mul(0.5).exp_()\n",
    "        if torch.cuda.is_available():\n",
    "            eps = torch.cuda.FloatTensor(std.size()).normal_()\n",
    "        else:\n",
    "            eps = torch.FloatTensor(std.size()).normal_()\n",
    "        eps = Variable(eps)\n",
    "        return eps.mul(std).add_(mu)\n",
    "    \n",
    "    def decoder(self, z):\n",
    "        h3 = F.leaky_relu(self.ct1(z))\n",
    "        h3 = self.up1(h3)\n",
    "        h3 = F.leaky_relu(self.ct2(h3))\n",
    "        h3 = self.up2(h3)\n",
    "        return F.leaky_relu(self.ct3(h3))\n",
    "    \n",
    "    def forward(self,inputs):\n",
    "        mu, logvar = self.encoder(inputs)\n",
    "        z = self.reparameterise(mu, logvar)\n",
    "        return self.decoder(z), mu, logvar\n",
    "print(\"Autoencoder\")\n",
    "\n",
    "GEN = Autoencoder()\n",
    "print(GEN)\n",
    "\n",
    "criterion = nn.L1Loss()\n",
    "optimizer = torch.optim.Adam(GEN.parameters(), lr=0.001, weight_decay=1e-5)\n",
    "\n",
    "for parameter in GEN.parameters():\n",
    "    print(parameter.size())"
   ]
  },
  {
   "cell_type": "code",
   "execution_count": 8,
   "metadata": {
    "scrolled": false
   },
   "outputs": [],
   "source": [
    "# torch.load(\"GEN_WEIGHT.pkl\")\n",
    "GEN.load_state_dict(torch.load(\"GEN_WEIGHT_quarter.pkl\"))\n"
   ]
  },
  {
   "cell_type": "code",
   "execution_count": null,
   "metadata": {
    "scrolled": false
   },
   "outputs": [],
   "source": [
    "    \n",
    "print(\"#DUMMY WORKSPACE\")    \n",
    "\n",
    "from sklearn.cluster import DBSCAN\n",
    "print(data_loader)\n",
    "\n",
    "# TEST = CNN(Variable(torch.randn(BATCH_SIZE,1,4096)))\n",
    "TEST = GEN(Variable(torch.randn(BATCH_SIZE,1,4096)))\n",
    "# DATA = TEST[0].reshape(BATCH_SIZE,1,-1)\n",
    "print(TEST[0].size())\n",
    "print(TEST[1].size())\n",
    "# print(DATA.size())\n",
    "print(TEST[2].size())\n",
    "# print(TEST[0].detach().numpy())\n",
    "\n",
    "\n",
    "# print(\"DBSCAN\")\n",
    "# db = DBSCAN(eps=0.3, min_samples=20).fit(DATA.detach().numpy())\n",
    "# print(db.core_sample_indices_)\n",
    "# print(db.labels_)"
   ]
  },
  {
   "cell_type": "code",
   "execution_count": null,
   "metadata": {
    "scrolled": false
   },
   "outputs": [],
   "source": [
    "# BATCH_SIZE=2000\n",
    "\n",
    "from torch import nn\n",
    "from torch.autograd import Variable\n",
    "   \n",
    "# Autoencoder\n",
    "# WIP!\n",
    "import torch.nn.functional as F\n",
    "\n",
    "class Autoencoder(nn.Module):\n",
    "    def __init__(self,batch_size):\n",
    "        super(Autoencoder, self).__init__()\n",
    "#         self.batch_size = batch_size\n",
    "        \n",
    "#         self.norm = nn.BatchNorm1d(1)\n",
    "        self.cv1 = nn.Conv1d(1, 32, kernel_size=32, stride=4, padding=1)\n",
    "        self.pl1 = nn.MaxPool1d(2, stride=4)\n",
    "        self.cv21 = nn.Conv1d(32, 16, kernel_size=32, stride=4, padding=1)\n",
    "        self.pl21 = nn.MaxPool1d(2, stride=4)\n",
    "        self.cv22 = nn.Conv1d(32, 16, kernel_size=32, stride=4, padding=1)\n",
    "        self.pl22 = nn.MaxPool1d(2, stride=4)\n",
    "        \n",
    "        self.lstm1 = nn.LSTM(448,4096)\n",
    "        \n",
    "        self.ct1 = nn.ConvTranspose1d(16, 32, kernel_size=64, stride=4, padding=0)\n",
    "        self.ct2 = nn.ConvTranspose1d(32, 32, kernel_size=48, stride=4, padding=0)\n",
    "        self.ct3 = nn.ConvTranspose1d(32, 1, kernel_size=40, stride=8,padding=0)\n",
    "#         self.ct4 = nn.ConvTranspose1d(32, 1, kernel_size=12, stride=4)\n",
    "        \n",
    "#         self.norm = nn.BatchNorm1d(1)\n",
    "#         self.cv1 = nn.Conv1d(1, 32, kernel_size=2, stride=2, padding=1)\n",
    "#         self.pl1 = nn.MaxPool1d(2, stride=3)\n",
    "#         self.cv21 = nn.Conv1d(32, 64, kernel_size=2, stride=2, padding=1)\n",
    "#         self.pl21 = nn.MaxPool1d(2, stride=3)\n",
    "#         self.cv22 = nn.Conv1d(32, 64, kernel_size=2, stride=2, padding=1)\n",
    "#         self.pl22 = nn.MaxPool1d(2, stride=3)\n",
    "\n",
    "#         self.ct1 = nn.ConvTranspose1d(64, 64, kernel_size=2, stride=3)\n",
    "#         self.ct2 = nn.ConvTranspose1d(64, 64, kernel_size=4, stride=3, padding=0)\n",
    "#         self.ct3 = nn.ConvTranspose1d(64, 1, kernel_size=4, stride=4, padding=0)\n",
    "# #         self.ct4 = nn.ConvTranspose1d(32, 1, kernel_size=12, stride=4)\n",
    "\n",
    "    def encoder(self, x):\n",
    "#         h0 = self.norm(x)\n",
    "        h1 = F.tanh(self.pl1(self.cv1(x)))\n",
    "        return self.pl21(self.cv21(h1)), self.pl22(self.cv22(h1))\n",
    "    \n",
    "    def reparameterise(self, mu, logvar):\n",
    "        std = logvar.mul(0.5).exp_()\n",
    "        if torch.cuda.is_available():\n",
    "            eps = torch.cuda.FloatTensor(std.size()).normal_()\n",
    "        else:\n",
    "            eps = torch.FloatTensor(std.size()).normal_()\n",
    "        eps = Variable(eps)\n",
    "        return eps.mul(std).add_(mu)\n",
    "    \n",
    "    def decoder(self, z):\n",
    "        h3 = F.tanh(self.ct1(z))\n",
    "        h3 = F.tanh(self.ct2(h3))\n",
    "#         h3 = F.sigmoid(self.ct3(h3))\n",
    "        return F.leaky_relu(self.ct3(h3))\n",
    "    \n",
    "    def forward(self,inputs):\n",
    "        mu, logvar = self.encoder(inputs)\n",
    "        z = self.reparameterise(mu, logvar)\n",
    "        return self.decoder(z), mu, logvar\n",
    "        \n",
    "\n",
    "# CNN = Classifier(1, no_classes=3, kernel_size=8, no_filters=32, \n",
    "#                  padding=4, maxpool=2, batch_size=BATCH_SIZE) \n",
    "\n",
    "# criterion = nn.CrossEntropyLoss()\n",
    "# optimizer = torch.optim.SGD(CNN.parameters(), lr=0.001, momentum=0.9)\n",
    "\n",
    "# print(CNN)\n",
    "# for parameter in CNN.parameters():\n",
    "#     print(parameter.size())\n",
    "\n",
    "print(\"Autoencoder\")\n",
    "\n",
    "GEN = Autoencoder(BATCH_SIZE)\n",
    "print(GEN)\n",
    "\n",
    "criterion = nn.L1Loss()\n",
    "optimizer = torch.optim.Adam(GEN.parameters(), lr=0.001, weight_decay=1e-5)\n",
    "\n",
    "for parameter in GEN.parameters():\n",
    "    print(parameter.size())"
   ]
  },
  {
   "cell_type": "code",
   "execution_count": null,
   "metadata": {
    "scrolled": true
   },
   "outputs": [],
   "source": [
    "model = GEN.cv21.weight\n",
    "model = model.detach().numpy()\n",
    "print(model)\n",
    "print(model[0].shape)\n",
    "print(model[:][0][0].shape)\n",
    "\n",
    "plt.figure()\n",
    "for i in range(32):\n",
    "    for j in range(32):\n",
    "#         plt.figure()\n",
    "        plt.plot(model[:][i][j])\n",
    "plt.show()"
   ]
  },
  {
   "cell_type": "markdown",
   "metadata": {},
   "source": [
    "### training\n",
    "transform to Torch.Variable"
   ]
  },
  {
   "cell_type": "code",
   "execution_count": 9,
   "metadata": {},
   "outputs": [],
   "source": [
    "def to_var(x):\n",
    "    # first move to GPU, if necessary\n",
    "    if torch.cuda.is_available():\n",
    "        x = x.cuda()\n",
    "        \n",
    "    return Variable(x)"
   ]
  },
  {
   "cell_type": "markdown",
   "metadata": {},
   "source": [
    "# Dummy code workspace"
   ]
  },
  {
   "cell_type": "code",
   "execution_count": null,
   "metadata": {
    "scrolled": false
   },
   "outputs": [],
   "source": [
    "output = Variable(torch.randn(10,120))\n",
    "target = Variable(torch.FloatTensor(10).uniform_(0, 120).long())\n",
    "print(torch.FloatTensor(10))\n",
    "print(torch.FloatTensor(10).uniform_(0,1).long())\n",
    "# print(output,target)\n",
    "\n",
    "loss = criterion(output,target)\n",
    "print(loss)"
   ]
  },
  {
   "cell_type": "code",
   "execution_count": null,
   "metadata": {},
   "outputs": [],
   "source": [
    "# class Training():\n",
    "    \n",
    "#     def __init__(self):\n",
    "#         tree = uproot.open(path)[\"tree\"]\n",
    "#         extra = np.arange(4096,4480)\n",
    "#         pmtall = tree.array(\"PMTALL\")\n",
    "#         pmtall = np.delete(pmtall, extra, axis=1)\n",
    "#         pedestal = tree.array(\"Pedestal\")\n",
    "#         pedestal_sum = pedestal[:,0]\n",
    "#         for i in range(len(pedestal_sum)):\n",
    "#             pmtall[i] = -(pmtall[i]-pedestal_sum[i])\n",
    "# #         number = \n",
    "        \n",
    "#         # random labelling(test purposes)\n",
    "#         self.waveform = normalize(pmtall,axis=1,norm=\"l2\")\n",
    "#         self.label = np.random.randint(3,size=(len(pmtall),))\n",
    "    \n",
    "#     def __len__(self):\n",
    "#         return self.waveform.shape[0]\n",
    "    \n",
    "#     def __getitem__(self,idx):\n",
    "#         return (self.waveform[idx],self.label[idx])\n",
    "\n",
    "train_loader = DataLoader(dataset=np.load(\"train.npy\"),\n",
    "                         batch_size=BATCH_SIZE,\n",
    "                         shuffle=True,\n",
    "                         num_workers=3)\n",
    "\n",
    "# for i in enumerate(train_loader):\n",
    "#     print(i)"
   ]
  },
  {
   "cell_type": "code",
   "execution_count": null,
   "metadata": {
    "scrolled": false
   },
   "outputs": [],
   "source": [
    "%%time\n",
    "N_EPOCHS = 10\n",
    "# allow for manual keyboard interrupt\n",
    "try: \n",
    "    # loop through epochs\n",
    "    for epoch in range(N_EPOCHS):\n",
    "        for batch_number, waveform in enumerate(train_loader):\n",
    "            \n",
    "#             print(\"epoch=\",epoch)\n",
    "#             print(batch_number)\n",
    "#             print(waveform.size(),label.size())\n",
    "    \n",
    "            batch_size = waveform.size()[0]\n",
    "            training_data = waveform.view(batch_size,1,4096)\n",
    "            target = training_data\n",
    "            \n",
    "#             print(training_data,target)\n",
    "            \n",
    "            outputs = GEN(training_data)\n",
    "#             print(outputs, target.view(-1).long())\n",
    "            \n",
    "#             print(outputs[0].size())\n",
    "#             print(training_data.size())\n",
    "            loss = criterion(outputs[0], target)\n",
    "            \n",
    "            optimizer.zero_grad()\n",
    "            loss.backward()\n",
    "            optimizer.step()\n",
    "\n",
    "\n",
    "#             print(loss.data[0])\n",
    "        \n",
    "            if (batch_number +1)%5 == 0:\n",
    "                print(\"Epoch[%d/%d], Step[%d/%d], loss=%.6f\"\n",
    "                      %(epoch+1,\n",
    "                        N_EPOCHS,\n",
    "                        batch_number+1,\n",
    "                        n_batches,\n",
    "                        loss.data[0] ))\n",
    "            \n",
    "#             print(GEN.state_dict())\n",
    "#             torch.save(GEN.state_dict(), \"GEN_%d_%d.pkl\"%(epoch,N_EPOCHS))\n",
    "#             print(GEN.encoder(training_data)[0].size())\n",
    "except KeyboardInterrupt:\n",
    "    print('Training ended early.')\n",
    "    \n",
    "torch.save(GEN.state_dict(),\"GEN_WEIGHT_quarter.pkl\")\n",
    "\n"
   ]
  },
  {
   "cell_type": "markdown",
   "metadata": {},
   "source": [
    "# Testing output of models\n",
    "# Bayesian Hierachal Clustering - Hierachal clustering approach to classify shape of waveforms with features of Convolution Neural Network "
   ]
  },
  {
   "cell_type": "code",
   "execution_count": null,
   "metadata": {},
   "outputs": [],
   "source": [
    "Features = torch.randn(41260,32,14)\n",
    "print(Features[:1000].size())\n"
   ]
  },
  {
   "cell_type": "code",
   "execution_count": 19,
   "metadata": {
    "scrolled": false
   },
   "outputs": [
    {
     "data": {
      "image/png": "[encoded data removed]",
      "text/plain": [
       "<matplotlib.figure.Figure at 0x11f486a90>"
      ]
     },
     "metadata": {},
     "output_type": "display_data"
    },
    {
     "name": "stdout",
     "output_type": "stream",
     "text": [
      "[1 2]\n"
     ]
    },
    {
     "data": {
      "image/png": "[encoded data removed]",
      "text/plain": [
       "<matplotlib.figure.Figure at 0x120a666a0>"
      ]
     },
     "metadata": {},
     "output_type": "display_data"
    },
    {
     "data": {
      "image/png": "[encoded data removed]",
      "text/plain": [
       "<matplotlib.figure.Figure at 0x120a69828>"
      ]
     },
     "metadata": {},
     "output_type": "display_data"
    },
    {
     "name": "stdout",
     "output_type": "stream",
     "text": [
      "[1 2]\n"
     ]
    },
    {
     "data": {
      "image/png": "[encoded data removed]",
      "text/plain": [
       "<matplotlib.figure.Figure at 0x108c23b00>"
      ]
     },
     "metadata": {},
     "output_type": "display_data"
    },
    {
     "data": {
      "image/png": "[encoded data removed]",
      "text/plain": [
       "<matplotlib.figure.Figure at 0x11af99198>"
      ]
     },
     "metadata": {},
     "output_type": "display_data"
    },
    {
     "name": "stdout",
     "output_type": "stream",
     "text": [
      "[1 2]\n"
     ]
    },
    {
     "data": {
      "image/png": "[encoded data removed]",
      "text/plain": [
       "<matplotlib.figure.Figure at 0x116363048>"
      ]
     },
     "metadata": {},
     "output_type": "display_data"
    },
    {
     "name": "stdout",
     "output_type": "stream",
     "text": [
      "CPU times: user 1min 1s, sys: 8.64 s, total: 1min 10s\n",
      "Wall time: 1min 5s\n"
     ]
    }
   ],
   "source": [
    "%%time\n",
    "try:\n",
    "    for batch_number, waveform in enumerate(data_loader):\n",
    "        average = []\n",
    "        average2 = []\n",
    "        average3 = []\n",
    "        average4 = []\n",
    "#         print(batch_number,label.size())\n",
    "#         print(waveform.size())\n",
    "#         if batch_number == 10:\n",
    "#             break\n",
    "\n",
    "        batch_size = waveform.size()[0]\n",
    "#         print(batch_size)\n",
    "        waveform_in = to_var(waveform.view(batch_size,1,4096)) \n",
    "        feat = GEN(waveform_in)\n",
    "        features = GEN.encoder(waveform_in)\n",
    "        \n",
    "#         print(batch_number)\n",
    "#         print(feat[0].size())\n",
    "        \n",
    "        green = np.reshape(features[0].detach().numpy(),(batch_size,-1))\n",
    "#         print(green.shape)\n",
    "        Z = linkage(green, method=\"ward\")\n",
    "#         print(Z.shape)\n",
    "#         print(Z)\n",
    "        fig = plt.figure(figsize=(6, 4))\n",
    "        dn = dendrogram(Z)\n",
    "        plt.title(batch_number)\n",
    "#         plt.savefig(\"ref.png\")\n",
    "        plt.show()\n",
    "        \n",
    "        clusters = fcluster(Z, 0.25, criterion='distance')\n",
    "#         print(clusters.shape)\n",
    "#         print(clusters)\n",
    "        print(np.unique(clusters))\n",
    "        \n",
    "#         average = np.append(average,Z)\n",
    "        \n",
    "        for i, waveform_out in enumerate(feat[0]):\n",
    "            \n",
    "            red = waveform_out.detach().numpy()\n",
    "#             red = np.reshape(waveform_out.detach().numpy(), (1,-1))\n",
    "            blue = waveform_in[i].detach().numpy()\n",
    "#             blue = normalize(waveform_in[i].detach().numpy(),axis=1)\n",
    "\n",
    "#             print(i, red.shape,blue.shape)\n",
    "#             print(red[0])\n",
    "#             print(blue[0])\n",
    "\n",
    "#             plt.figure()\n",
    "#             plt.title(\"{}\".format(clusters[i]))\n",
    "#             plt.plot(red[0],label=\"encoder output\",alpha=0.7)\n",
    "#             plt.plot(blue[0],label=\"encoder input\",alpha=0.7)\n",
    "#             plt.legend()\n",
    "# #                     plt.savefig(\"fig/{}_{}.png\".format(k,i))\n",
    "#             plt.show()\n",
    "    \n",
    "#             for k in range(len(np.unique(clusters))):\n",
    "#                 if k==clusters[i]:\n",
    "#                     plt.figure()\n",
    "#                     plt.title(\"{}\".format(k))\n",
    "#                     plt.plot(red[0],label=\"encoder output\",alpha=0.7)\n",
    "#                     plt.plot(blue[0],label=\"encoder input\",alpha=0.7)\n",
    "#                     plt.legend()\n",
    "# #                     plt.savefig(\"fig/{}_{}.png\".format(k,i))\n",
    "#                     plt.show()\n",
    "\n",
    "            if clusters[i]==1:\n",
    "                average.append(blue[0])\n",
    "                \n",
    "            if clusters[i]==2:\n",
    "                average2.append(blue[0])\n",
    "            \n",
    "#             if clusters[i]==3:\n",
    "#                 average3.append(blue[0])\n",
    "                \n",
    "#             if clusters[i]==4:\n",
    "#                 average4.append(blue[0])\n",
    "        dang = np.mean(average, axis=0)\n",
    "        dang2 = np.mean(average2, axis=0)\n",
    "#         dang3 = np.mean(average3, axis=0)\n",
    "#         dang4 = np.mean(average4, axis=0)\n",
    "        \n",
    "        plt.figure(figsize=(6,4))\n",
    "        plt.plot(dang,label=\"1\")\n",
    "        plt.plot(dang2,label=\"2\")\n",
    "#         plt.plot(dang3,label=\"3\")\n",
    "#         plt.plot(dang4,label=\"4\")\n",
    "        plt.xlim(0,1000)\n",
    "        plt.xlabel(\"channel\")\n",
    "        plt.legend()\n",
    "        plt.title(batch_number)\n",
    "        plt.show()\n",
    "                    \n",
    "#         Features[batch_number*1000:(batch_number+1)*1000] = feat[0]\n",
    "        \n",
    "        \n",
    "#         print(Features.size())\n",
    "    # db = DBSCAN(eps=0.3, min_samples=20).fit(DATA.detach().numpy())\n",
    "    # print(db.core_sample_indices_)\n",
    "    # print(db.labels_)\n",
    "        \n",
    "\n",
    "except KeyboardInterrupt:\n",
    "    print('Training ended early.')"
   ]
  },
  {
   "cell_type": "code",
   "execution_count": null,
   "metadata": {
    "scrolled": false
   },
   "outputs": [],
   "source": [
    "print(len(average)+len(average2)+len(average3)+len(average4))\n",
    "\n",
    "dang = np.mean(average, axis=0)\n",
    "dang2 = np.mean(average2, axis=0)\n",
    "dang3 = np.mean(average3, axis=0)\n",
    "dang4 = np.mean(average4, axis=0)\n",
    "\n",
    "print(dang)\n",
    "print(dang2)"
   ]
  },
  {
   "cell_type": "code",
   "execution_count": null,
   "metadata": {},
   "outputs": [],
   "source": [
    "plt.figure(figsize=(12,8))\n",
    "plt.plot(dang,label=\"1\")\n",
    "plt.plot(dang2,label=\"2\")\n",
    "plt.plot(dang3,label=\"3\")\n",
    "plt.plot(dang4,label=\"4\")\n",
    "plt.xlabel(\"channel\")\n",
    "plt.legend()\n",
    "plt.show()\n"
   ]
  },
  {
   "cell_type": "code",
   "execution_count": null,
   "metadata": {},
   "outputs": [],
   "source": [
    "%%reset"
   ]
  },
  {
   "cell_type": "code",
   "execution_count": null,
   "metadata": {
    "scrolled": true
   },
   "outputs": [],
   "source": [
    "print(average)\n",
    "plt.figure()\n",
    "dendrogram(average)\n",
    "plt.show()\n",
    "\n",
    "# plt.figure()\n",
    "# print(len(average))\n",
    "# for i in range(len(average)):\n",
    "#     plt.figure()\n",
    "#     plt.plot(average[np.random.randint(len(average))])\n",
    "#     plt.show()\n",
    "# plt.show()"
   ]
  },
  {
   "cell_type": "markdown",
   "metadata": {},
   "source": [
    "# Testing Linkage directly on waveforms."
   ]
  },
  {
   "cell_type": "code",
   "execution_count": null,
   "metadata": {
    "scrolled": false
   },
   "outputs": [],
   "source": [
    "%%time\n",
    "un1 = []\n",
    "un2 = []\n",
    "\n",
    "try:\n",
    "    for batch_number, waveform in enumerate(data_loader):\n",
    "\n",
    "        if batch_number == 1:\n",
    "            break\n",
    "        batch_size = waveform.size()[0]\n",
    "        green = np.reshape(waveform.detach().numpy(),(batch_size,-1))\n",
    "        print(green.shape)\n",
    "        Z = linkage(green, method=\"ward\")\n",
    "        print(Z.shape)\n",
    "#         print(Z)\n",
    "        fig = plt.figure(figsize=(12, 8))\n",
    "        dn = dendrogram(Z)\n",
    "        plt.show()\n",
    "        \n",
    "        clusters = fcluster(Z, 1.5, criterion='distance')\n",
    "        print(clusters.shape)\n",
    "        print(clusters)\n",
    "        print(np.unique(clusters))\n",
    "        \n",
    "        for i, waveform_i in enumerate(waveform):\n",
    "            if clusters[i]==1:\n",
    "                un1.append(green[i])\n",
    "                \n",
    "            if clusters[i]==2:\n",
    "                un2.append(green[i])\n",
    "                \n",
    "except KeyboardInterrupt:\n",
    "    print('Training ended early.')"
   ]
  },
  {
   "cell_type": "code",
   "execution_count": null,
   "metadata": {},
   "outputs": [],
   "source": [
    "sim1 = np.mean(un1,axis=0)\n",
    "sim2 = np.mean(un2,axis=0)\n",
    "print(sim1.size)\n",
    "print(sim2.size)\n",
    "plt.figure()\n",
    "plt.plot(sim1)\n",
    "plt.plot(sim2)\n",
    "plt.xlabel(\"channel\")\n",
    "plt.show()"
   ]
  },
  {
   "cell_type": "code",
   "execution_count": null,
   "metadata": {},
   "outputs": [],
   "source": [
    "plt.figure()\n",
    "plt.plot(sim1)\n",
    "plt.plot(sim2)\n",
    "plt.xlabel(\"channel\")\n",
    "plt.xlim(70,300)\n",
    "plt.show()"
   ]
  },
  {
   "cell_type": "code",
   "execution_count": null,
   "metadata": {
    "scrolled": true
   },
   "outputs": [],
   "source": [
    "from sklearn.cluster import DBSCAN\n",
    "\n",
    "db = DBSCAN(eps=0.3, min_samples=10).fit(generated[:2000].detach().numpy())\n",
    "print(db.core_sample_indices_)\n",
    "print(db.labels_)"
   ]
  },
  {
   "cell_type": "code",
   "execution_count": null,
   "metadata": {},
   "outputs": [],
   "source": [
    "plt.hist(db.labels_)\n",
    "plt.show()"
   ]
  },
  {
   "cell_type": "code",
   "execution_count": null,
   "metadata": {
    "scrolled": false
   },
   "outputs": [],
   "source": [
    "whos"
   ]
  },
  {
   "cell_type": "markdown",
   "metadata": {},
   "source": [
    "# extracting filters/features\n",
    "\n",
    "Use the protion of the Autoencoder transfer the trained weight to semi-half model of autoencoder.\n",
    "Uses the output of the midlle layer of autoencoder and do a clustering on it.\n",
    "\n",
    "The cluster number is a single vector(multi-class in keras?) representing the \"output\" of the group class.\n",
    "\n",
    "# How to let this last layer of output automatically deduce itself.?\n",
    "* save every sample output? how to make gives a supervised like methods output??\n",
    "\n",
    "#Retrain the network but freeze all layer except for the last layer (clustering analysis layer). this can uses for LWRP studies, identify physical meaning of grouping. with it?\n",
    "\n",
    "* understanding Neural Network, how to get layer-wise relevance propagation work for the last layer?"
   ]
  },
  {
   "cell_type": "code",
   "execution_count": null,
   "metadata": {},
   "outputs": [],
   "source": [
    "# Discriminator\n",
    "class Classifier(nn.Module):\n",
    "    def __init__(self, input_chn, no_classes, kernel_size, \n",
    "                 no_filters, padding, maxpool, batch_size):\n",
    "        super(Classifier, self).__init__()\n",
    "        self.input_chn = input_chn\n",
    "        self.no_classes = no_classes\n",
    "        self.kernel_size = kernel_size\n",
    "        self.padding = padding\n",
    "        self.no_filters = no_filters\n",
    "        self.maxpool = maxpool\n",
    "        self.batch_size = batch_size\n",
    "        \n",
    "#         self.norm = nn.BatchNorm1d(input_chn)\n",
    "        self.c1 = nn.Conv1d(input_chn ,no_filters ,kernel_size ,padding=padding )\n",
    "        self.p1 = nn.MaxPool1d(maxpool ,padding )\n",
    "        self.lr = nn.LeakyReLU(0.2)\n",
    "        self.c2 = nn.Conv1d(no_filters, int(no_filters/2), kernel_size, padding=padding)\n",
    "        self.p2 = nn.MaxPool1d(maxpool ,padding )       \n",
    "        self.l1 = nn.Linear(4096,64)\n",
    "        self.h1 = nn.Linear(64,64)\n",
    "        self.out = nn.Linear(64, no_classes)  \n",
    "        self.sg = nn.Sigmoid()\n",
    "        \n",
    "    def forward(self, inputs):\n",
    "        \n",
    "#         x = inputs.view(self.batch_size,1,-1)\n",
    "#         x = self.norm(x)\n",
    "        x = self.c1(x)\n",
    "        x = self.lr(x)\n",
    "        x = self.p1(x)\n",
    "        x = self.c2(x)\n",
    "        x = self.lr(x)\n",
    "        x = self.p2(x)\n",
    "        \n",
    "        x = x.view(self.batch_size,-1)\n",
    "        \n",
    "        x = self.l1(x)\n",
    "        x = self.lr(x)\n",
    "        x = self.h1(x)\n",
    "        x = self.out(x)\n",
    "        outputs = self.sg(x)\n",
    "        return outputs"
   ]
  },
  {
   "cell_type": "code",
   "execution_count": null,
   "metadata": {},
   "outputs": [],
   "source": []
  },
  {
   "cell_type": "markdown",
   "metadata": {},
   "source": [
    "# Clustering techniques\n",
    "most likely DBSCAN don't require to specify number of clusters however this can explode making difficult to use, the best option for now"
   ]
  },
  {
   "cell_type": "code",
   "execution_count": null,
   "metadata": {},
   "outputs": [],
   "source": []
  },
  {
   "cell_type": "markdown",
   "metadata": {},
   "source": [
    "# Layer Wise Relevance Propagation Or similiar techniques\n",
    "The purpose of understanding CNN, see which portion of data gives more importance, mostly likely create a new CNN using trained weights from autoencoder with the final layers self-created based of the results of clustering. This can allow us to treate this CNN as supervised technique like however in reality as it is based on purely unsupervised techniques. This supervised like technique allows us to use technique like layer wise relevance propagation to understand the CNN giving us insight of the working of features learned by the cNN."
   ]
  },
  {
   "cell_type": "code",
   "execution_count": null,
   "metadata": {},
   "outputs": [],
   "source": []
  }
 ],
 "metadata": {
  "kernelspec": {
   "display_name": "Python 3",
   "language": "python",
   "name": "python3"
  },
  "language_info": {
   "codemirror_mode": {
    "name": "ipython",
    "version": 3
   },
   "file_extension": ".py",
   "mimetype": "text/x-python",
   "name": "python",
   "nbconvert_exporter": "python",
   "pygments_lexer": "ipython3",
   "version": "3.5.2"
  }
 },
 "nbformat": 4,
 "nbformat_minor": 2
}
