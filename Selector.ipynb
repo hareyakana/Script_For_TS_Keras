{
 "cells": [
  {
   "cell_type": "code",
   "execution_count": 1,
   "metadata": {},
   "outputs": [
    {
     "name": "stdout",
     "output_type": "stream",
     "text": [
      "CPU times: user 1.05 s, sys: 370 ms, total: 1.42 s\n",
      "Wall time: 2.26 s\n"
     ]
    }
   ],
   "source": [
    "%%time\n",
    "\n",
    "import numpy as np\n",
    "import matplotlib.pyplot as plt\n",
    "import matplotlib.cm as cm\n",
    "from sklearn.preprocessing import normalize\n",
    "\n",
    "plt.rcParams['figure.figsize'] = 5.0, 4.0\n",
    "\n",
    "from pyts.transformation import GADF,GASF\n",
    "from sklearn.preprocessing import normalize\n",
    "\n",
    "import uproot\n",
    "import torch\n",
    "from torch.utils.data import DataLoader\n",
    "from torch.autograd import Variable\n",
    "\n",
    "from scipy.cluster.hierarchy import dendrogram, linkage\n",
    "from scipy.cluster.hierarchy import fcluster"
   ]
  },
  {
   "cell_type": "code",
   "execution_count": 2,
   "metadata": {},
   "outputs": [
    {
     "name": "stdout",
     "output_type": "stream",
     "text": [
      "Autoencoder\n",
      "Autoencoder(\n",
      "  (cv1): Conv1d(1, 32, kernel_size=(8,), stride=(4,), padding=(4,))\n",
      "  (pl1): MaxPool1d(kernel_size=2, stride=4, padding=0, dilation=1, ceil_mode=False)\n",
      "  (cv21): Conv1d(32, 16, kernel_size=(8,), stride=(4,), padding=(4,))\n",
      "  (pl21): MaxPool1d(kernel_size=2, stride=4, padding=0, dilation=1, ceil_mode=False)\n",
      "  (cv22): Conv1d(32, 16, kernel_size=(8,), stride=(4,), padding=(4,))\n",
      "  (pl22): MaxPool1d(kernel_size=2, stride=4, padding=0, dilation=1, ceil_mode=False)\n",
      "  (ct1): ConvTranspose1d(16, 32, kernel_size=(8,), stride=(4,), padding=(2,))\n",
      "  (up1): Upsample(scale_factor=2, mode=nearest)\n",
      "  (ct2): ConvTranspose1d(32, 32, kernel_size=(8,), stride=(4,), padding=(2,))\n",
      "  (up2): Upsample(scale_factor=2, mode=nearest)\n",
      "  (ct3): ConvTranspose1d(32, 1, kernel_size=(8,), stride=(4,), padding=(2,))\n",
      ")\n",
      "torch.Size([32, 1, 8])\n",
      "torch.Size([32])\n",
      "torch.Size([16, 32, 8])\n",
      "torch.Size([16])\n",
      "torch.Size([16, 32, 8])\n",
      "torch.Size([16])\n",
      "torch.Size([16, 32, 8])\n",
      "torch.Size([32])\n",
      "torch.Size([32, 32, 8])\n",
      "torch.Size([32])\n",
      "torch.Size([32, 1, 8])\n",
      "torch.Size([1])\n"
     ]
    }
   ],
   "source": [
    "from torch import nn\n",
    "from torch.autograd import Variable\n",
    "import torch.nn.functional as F\n",
    "\n",
    "class Autoencoder(nn.Module):\n",
    "    def __init__(self,batch_size):\n",
    "        super(Autoencoder, self).__init__()\n",
    "        self.batch_size = batch_size\n",
    "        \n",
    "#         self.norm = nn.BatchNorm1d(1)\n",
    "        self.cv1 = nn.Conv1d(1, 32, kernel_size=8, stride=4, padding=4)\n",
    "        self.pl1 = nn.MaxPool1d(2, stride=4)\n",
    "        self.cv21 = nn.Conv1d(32, 16, kernel_size=8, stride=4, padding=4)\n",
    "        self.pl21 = nn.MaxPool1d(2, stride=4)\n",
    "        self.cv22 = nn.Conv1d(32, 16, kernel_size=8, stride=4, padding=4)\n",
    "        self.pl22 = nn.MaxPool1d(2, stride=4)\n",
    "                \n",
    "        self.ct1 = nn.ConvTranspose1d(16, 32, kernel_size=8, stride=4, padding=2)\n",
    "        self.up1 = nn.Upsample(scale_factor=2, mode='nearest')\n",
    "        self.ct2 = nn.ConvTranspose1d(32, 32, kernel_size=8, stride=4, padding=2)\n",
    "        self.up2 = nn.Upsample(scale_factor=2, mode='nearest')\n",
    "        self.ct3 = nn.ConvTranspose1d(32, 1, kernel_size=8, stride=4,padding=2)\n",
    "\n",
    "    def encoder(self, x):\n",
    "#         h0 = self.norm(x)\n",
    "        h1 = F.tanh(self.pl1(self.cv1(x)))\n",
    "        return self.pl21(self.cv21(h1)), self.pl22(self.cv22(h1))\n",
    "    \n",
    "    def reparameterise(self, mu, logvar):\n",
    "        std = logvar.mul(0.5).exp_()\n",
    "        if torch.cuda.is_available():\n",
    "            eps = torch.cuda.FloatTensor(std.size()).normal_()\n",
    "        else:\n",
    "            eps = torch.FloatTensor(std.size()).normal_()\n",
    "        eps = Variable(eps)\n",
    "        return eps.mul(std).add_(mu)\n",
    "    \n",
    "    def decoder(self, z):\n",
    "        h3 = F.leaky_relu(self.ct1(z))\n",
    "        h3 = self.up1(h3)\n",
    "        h3 = F.leaky_relu(self.ct2(h3))\n",
    "        h3 = self.up2(h3)\n",
    "        return F.leaky_relu(self.ct3(h3))\n",
    "    \n",
    "    def forward(self,inputs):\n",
    "        mu, logvar = self.encoder(inputs)\n",
    "        z = self.reparameterise(mu, logvar)\n",
    "        return self.decoder(z), mu, logvar\n",
    "print(\"Autoencoder\")\n",
    "\n",
    "BATCH_SIZE=3000\n",
    "GEN = Autoencoder(BATCH_SIZE)\n",
    "print(GEN)\n",
    "\n",
    "criterion = nn.L1Loss()\n",
    "optimizer = torch.optim.Adam(GEN.parameters(), lr=0.001, weight_decay=1e-5)\n",
    "\n",
    "for parameter in GEN.parameters():\n",
    "    print(parameter.size())"
   ]
  },
  {
   "cell_type": "code",
   "execution_count": 3,
   "metadata": {},
   "outputs": [],
   "source": [
    "GEN.load_state_dict(torch.load(\"GEN_WEIGHT_quarter.pkl\"))"
   ]
  },
  {
   "cell_type": "code",
   "execution_count": 4,
   "metadata": {},
   "outputs": [],
   "source": [
    "def to_var(x):\n",
    "    if torch.cuda.is_available():\n",
    "        x = x.cuda()\n",
    "        \n",
    "    return Variable(x)"
   ]
  },
  {
   "cell_type": "code",
   "execution_count": 5,
   "metadata": {},
   "outputs": [
    {
     "name": "stdout",
     "output_type": "stream",
     "text": [
      "CPU times: user 42.2 s, sys: 3.97 s, total: 46.1 s\n",
      "Wall time: 50.4 s\n"
     ]
    }
   ],
   "source": [
    "%%time\n",
    "class Waveform():\n",
    "    \n",
    "    def __init__(self, path=None, select=1):\n",
    "        if path is None:\n",
    "            raise ValueError(\"Insert file path!\")\n",
    "        if select is None:\n",
    "            raise ValueError(\"Pick 1 or 2!\")\n",
    "        \n",
    "        # Load PMTALL(sum of waveform of CANDLES), removing last portion of data\n",
    "        tree = uproot.open(path)[\"tree\"]\n",
    "        label = np.load(\"label.npy\")\n",
    "        extra = np.arange(4096,4480)\n",
    "        pmtall = tree.array(\"PMTALL\")\n",
    "        pmtall = np.delete(pmtall, extra, axis=1)\n",
    "        pedestal = tree.array(\"Pedestal\")\n",
    "        pedestal_sum = pedestal[:,0]\n",
    "        for i in range(len(pedestal_sum)):\n",
    "            pmtall[i] = pedestal_sum[i] - pmtall[i]\n",
    "\n",
    "        waveform_n = normalize(pmtall,axis=1,norm=\"l2\")\n",
    "        self.waveform = waveform_n[label==select]\n",
    "        \n",
    "    def __len__(self):\n",
    "        return self.waveform.shape[0]\n",
    "    \n",
    "    def __getitem__(self,idx):\n",
    "        return self.waveform[idx]\n",
    "\n",
    "dataset = Waveform(path=\"Run9goodDataQ_dualgate.root\",select=4)"
   ]
  },
  {
   "cell_type": "code",
   "execution_count": 6,
   "metadata": {},
   "outputs": [
    {
     "name": "stdout",
     "output_type": "stream",
     "text": [
      "43785\n"
     ]
    }
   ],
   "source": [
    "print(len(dataset))\n",
    "data_loader = DataLoader(dataset=dataset,\n",
    "                         batch_size=BATCH_SIZE,\n",
    "                         shuffle=False,\n",
    "                         num_workers=3)\n",
    "del dataset"
   ]
  },
  {
   "cell_type": "code",
   "execution_count": 7,
   "metadata": {},
   "outputs": [],
   "source": [
    "correct_2 = np.array([1,2,1,2,2,1,2,2,1,1,2,1,1,2,2])"
   ]
  },
  {
   "cell_type": "code",
   "execution_count": 8,
   "metadata": {
    "scrolled": false
   },
   "outputs": [
    {
     "name": "stdout",
     "output_type": "stream",
     "text": [
      "(3000, 256)\n"
     ]
    },
    {
     "data": {
      "image/png": "[encoded data removed]",
      "text/plain": [
       "<matplotlib.figure.Figure at 0x1467b74a8>"
      ]
     },
     "metadata": {},
     "output_type": "display_data"
    },
    {
     "name": "stdout",
     "output_type": "stream",
     "text": [
      "[1 2]\n"
     ]
    },
    {
     "data": {
      "image/png": "[encoded data removed]",
      "text/plain": [
       "<matplotlib.figure.Figure at 0x14e78bb70>"
      ]
     },
     "metadata": {},
     "output_type": "display_data"
    },
    {
     "name": "stdout",
     "output_type": "stream",
     "text": [
      "(3000, 256)\n"
     ]
    },
    {
     "name": "stderr",
     "output_type": "stream",
     "text": [
      "Process Process-2:\n",
      "Process Process-1:\n",
      "Process Process-3:\n"
     ]
    },
    {
     "name": "stdout",
     "output_type": "stream",
     "text": [
      "Training ended early.\n",
      "CPU times: user 43.5 s, sys: 6.48 s, total: 50 s\n",
      "Wall time: 49 s\n"
     ]
    },
    {
     "name": "stderr",
     "output_type": "stream",
     "text": [
      "Traceback (most recent call last):\n",
      "Exception ignored in: <bound method _DataLoaderIter.__del__ of <torch.utils.data.dataloader._DataLoaderIter object at 0x1467a0f60>>\n",
      "Traceback (most recent call last):\n",
      "  File \"/Library/Frameworks/Python.framework/Versions/3.5/lib/python3.5/site-packages/torch/utils/data/dataloader.py\", line 349, in __del__\n",
      "    self._shutdown_workers()\n",
      "  File \"/Library/Frameworks/Python.framework/Versions/3.5/lib/python3.5/site-packages/torch/utils/data/dataloader.py\", line 328, in _shutdown_workers\n",
      "    self.worker_result_queue.get()\n",
      "  File \"/Library/Frameworks/Python.framework/Versions/3.5/lib/python3.5/site-packages/torch/utils/data/dataloader.py\", line 178, in handler\n",
      "    _error_if_any_worker_fails()\n",
      "RuntimeError: DataLoader worker (pid 8323) exited unexpectedly with exit code 1.\n",
      "Traceback (most recent call last):\n",
      "Traceback (most recent call last):\n",
      "  File \"/Library/Frameworks/Python.framework/Versions/3.5/lib/python3.5/multiprocessing/process.py\", line 249, in _bootstrap\n",
      "    self.run()\n",
      "  File \"/Library/Frameworks/Python.framework/Versions/3.5/lib/python3.5/multiprocessing/process.py\", line 249, in _bootstrap\n",
      "    self.run()\n",
      "  File \"/Library/Frameworks/Python.framework/Versions/3.5/lib/python3.5/multiprocessing/process.py\", line 93, in run\n",
      "    self._target(*self._args, **self._kwargs)\n",
      "  File \"/Library/Frameworks/Python.framework/Versions/3.5/lib/python3.5/multiprocessing/process.py\", line 249, in _bootstrap\n",
      "    self.run()\n",
      "  File \"/Library/Frameworks/Python.framework/Versions/3.5/lib/python3.5/multiprocessing/process.py\", line 93, in run\n",
      "    self._target(*self._args, **self._kwargs)\n",
      "  File \"/Library/Frameworks/Python.framework/Versions/3.5/lib/python3.5/multiprocessing/process.py\", line 93, in run\n",
      "    self._target(*self._args, **self._kwargs)\n",
      "  File \"/Library/Frameworks/Python.framework/Versions/3.5/lib/python3.5/site-packages/torch/utils/data/dataloader.py\", line 52, in _worker_loop\n",
      "    r = index_queue.get()\n",
      "  File \"/Library/Frameworks/Python.framework/Versions/3.5/lib/python3.5/site-packages/torch/utils/data/dataloader.py\", line 52, in _worker_loop\n",
      "    r = index_queue.get()\n",
      "  File \"/Library/Frameworks/Python.framework/Versions/3.5/lib/python3.5/multiprocessing/queues.py\", line 343, in get\n",
      "    res = self._reader.recv_bytes()\n",
      "  File \"/Library/Frameworks/Python.framework/Versions/3.5/lib/python3.5/multiprocessing/queues.py\", line 343, in get\n",
      "    res = self._reader.recv_bytes()\n",
      "  File \"/Library/Frameworks/Python.framework/Versions/3.5/lib/python3.5/site-packages/torch/utils/data/dataloader.py\", line 52, in _worker_loop\n",
      "    r = index_queue.get()\n",
      "  File \"/Library/Frameworks/Python.framework/Versions/3.5/lib/python3.5/multiprocessing/connection.py\", line 216, in recv_bytes\n",
      "    buf = self._recv_bytes(maxlength)\n",
      "  File \"/Library/Frameworks/Python.framework/Versions/3.5/lib/python3.5/multiprocessing/queues.py\", line 343, in get\n",
      "    res = self._reader.recv_bytes()\n",
      "  File \"/Library/Frameworks/Python.framework/Versions/3.5/lib/python3.5/multiprocessing/connection.py\", line 216, in recv_bytes\n",
      "    buf = self._recv_bytes(maxlength)\n",
      "  File \"/Library/Frameworks/Python.framework/Versions/3.5/lib/python3.5/multiprocessing/connection.py\", line 407, in _recv_bytes\n",
      "    buf = self._recv(4)\n",
      "  File \"/Library/Frameworks/Python.framework/Versions/3.5/lib/python3.5/multiprocessing/connection.py\", line 216, in recv_bytes\n",
      "    buf = self._recv_bytes(maxlength)\n",
      "  File \"/Library/Frameworks/Python.framework/Versions/3.5/lib/python3.5/multiprocessing/connection.py\", line 407, in _recv_bytes\n",
      "    buf = self._recv(4)\n",
      "  File \"/Library/Frameworks/Python.framework/Versions/3.5/lib/python3.5/multiprocessing/connection.py\", line 379, in _recv\n",
      "    chunk = read(handle, remaining)\n",
      "  File \"/Library/Frameworks/Python.framework/Versions/3.5/lib/python3.5/multiprocessing/connection.py\", line 407, in _recv_bytes\n",
      "    buf = self._recv(4)\n",
      "  File \"/Library/Frameworks/Python.framework/Versions/3.5/lib/python3.5/multiprocessing/connection.py\", line 379, in _recv\n",
      "    chunk = read(handle, remaining)\n",
      "KeyboardInterrupt\n",
      "KeyboardInterrupt\n",
      "  File \"/Library/Frameworks/Python.framework/Versions/3.5/lib/python3.5/multiprocessing/connection.py\", line 379, in _recv\n",
      "    chunk = read(handle, remaining)\n",
      "KeyboardInterrupt\n"
     ]
    }
   ],
   "source": [
    "%%time\n",
    "label_2 = []\n",
    "try:\n",
    "    for batch_number, waveform in enumerate(data_loader):\n",
    "        \n",
    "        average = []\n",
    "        average2 = []\n",
    "#         average3 = []\n",
    "#         average4 = []\n",
    "        \n",
    "        batch_size = waveform.size()[0]\n",
    "        plotter = waveform.detach().numpy()\n",
    "#         label = label.detach().numpy()\n",
    "        \n",
    "        waveform_in = to_var(waveform.view(batch_size,1,4096)) \n",
    "        feat = GEN(waveform_in)\n",
    "        features = GEN.encoder(waveform_in)\n",
    "        \n",
    "        encoder_feat = np.reshape(features[0].detach().numpy(),(batch_size,-1))\n",
    "        print(encoder_feat.shape)\n",
    "        Z = linkage(encoder_feat, method=\"ward\")\n",
    "#         print(Z.shape)\n",
    "#         print(Z)\n",
    "        fig = plt.figure(figsize=(8, 6))\n",
    "        dn = dendrogram(Z)\n",
    "        plt.title(\"{}\".format(batch_number))\n",
    "        plt.show()\n",
    "        \n",
    "        clusters = fcluster(Z, 0.7, criterion='distance')\n",
    "#         print(clusters.shape)\n",
    "#         print(clusters)\n",
    "        print(np.unique(clusters))\n",
    "    \n",
    "        if correct_2[batch_number]==2:\n",
    "            for i,j in enumerate(clusters):\n",
    "                clusters[i] = 3 - clusters[i]\n",
    "        \n",
    "        label_2.append(clusters)\n",
    "        \n",
    "        \n",
    "        for i, waveform_out in enumerate(features[0]):\n",
    "#             plt.figure(figsize=(6, 4))\n",
    "#             plt.plot(plotter[i])\n",
    "#             plt.show()\n",
    "            if clusters[i]==1:\n",
    "                average.append(plotter[i])\n",
    "                \n",
    "            if clusters[i]==2:\n",
    "                average2.append(plotter[i])\n",
    "            \n",
    "#             if clusters[i]==3:\n",
    "#                 average3.append(plotter[i])\n",
    "                \n",
    "#             if clusters[i]==4:\n",
    "#                 average4.append(plotter[i])\n",
    "        dang = np.mean(average, axis=0)\n",
    "        dang2 = np.mean(average2, axis=0)\n",
    "#         dang3 = np.mean(average3, axis=0)\n",
    "#         dang4 = np.mean(average4, axis=0)\n",
    "        \n",
    "        plt.figure(figsize=(8,6))\n",
    "        plt.plot(dang,label=\"1\")\n",
    "        plt.plot(dang2,label=\"2\")\n",
    "#         plt.plot(dang3,label=\"3\")\n",
    "#         plt.plot(dang4,label=\"4\")\n",
    "        plt.xlabel(\"channel\")\n",
    "        plt.legend()\n",
    "        plt.title(batch_number)\n",
    "        plt.show()\n",
    "\n",
    "        \n",
    "\n",
    "except KeyboardInterrupt:\n",
    "    print('Training ended early.')"
   ]
  },
  {
   "cell_type": "code",
   "execution_count": 26,
   "metadata": {},
   "outputs": [
    {
     "name": "stdout",
     "output_type": "stream",
     "text": [
      "[2 1 1 ... 1 2 2]\n"
     ]
    }
   ],
   "source": [
    "# print(label_2)\n",
    "print(label_2[0])\n",
    "labelling = np.empty(43785)\n",
    "\n",
    "for i in range(15):\n",
    "    if i==14:\n",
    "        labelling[i*3000:] = label_2[i]\n",
    "    else:\n",
    "        labelling[i*3000:(i+1)*3000] = label_2[i]"
   ]
  },
  {
   "cell_type": "code",
   "execution_count": 27,
   "metadata": {},
   "outputs": [
    {
     "name": "stdout",
     "output_type": "stream",
     "text": [
      "[2. 1. 1. ... 2. 2. 1.]\n"
     ]
    }
   ],
   "source": [
    "print(labelling)"
   ]
  },
  {
   "cell_type": "code",
   "execution_count": 28,
   "metadata": {},
   "outputs": [],
   "source": [
    "labelling = labelling.astype(int)"
   ]
  },
  {
   "cell_type": "code",
   "execution_count": 29,
   "metadata": {},
   "outputs": [],
   "source": [
    "np.save(\"label_4\",labelling)"
   ]
  },
  {
   "cell_type": "code",
   "execution_count": null,
   "metadata": {},
   "outputs": [],
   "source": []
  }
 ],
 "metadata": {
  "kernelspec": {
   "display_name": "Python 3",
   "language": "python",
   "name": "python3"
  },
  "language_info": {
   "codemirror_mode": {
    "name": "ipython",
    "version": 3
   },
   "file_extension": ".py",
   "mimetype": "text/x-python",
   "name": "python",
   "nbconvert_exporter": "python",
   "pygments_lexer": "ipython3",
   "version": "3.5.2"
  }
 },
 "nbformat": 4,
 "nbformat_minor": 2
}
